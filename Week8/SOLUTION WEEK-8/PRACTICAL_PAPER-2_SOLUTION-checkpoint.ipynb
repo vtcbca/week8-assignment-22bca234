{
 "cells": [
  {
   "cell_type": "markdown",
   "id": "cae64a2e",
   "metadata": {},
   "source": [
    "## WEEK-8 ASSIGNMENT\n",
    "### PROGRAM-2"
   ]
  },
  {
   "cell_type": "code",
   "execution_count": 1,
   "id": "084be109",
   "metadata": {},
   "outputs": [],
   "source": [
    "import sqlite3 as sq\n",
    "import pandas as pd\n",
    "import matplotlib.pyplot as plt\n",
    "import csv"
   ]
  },
  {
   "cell_type": "markdown",
   "id": "ce5dedf3",
   "metadata": {},
   "source": [
    "### Sales (sid, year, totalsales).\n",
    "### Create above table into a SQLite database with appropriate constraints."
   ]
  },
  {
   "cell_type": "code",
   "execution_count": 9,
   "id": "1207f54c",
   "metadata": {},
   "outputs": [],
   "source": [
    "con=sq.connect(r\"D:\\Aastha\\22BCA234\\DB&PYTHON\\PRODUCTS_SALES_DETAILS.db\")"
   ]
  },
  {
   "cell_type": "code",
   "execution_count": 13,
   "id": "d1eb29ab",
   "metadata": {},
   "outputs": [],
   "source": [
    "cur=con.cursor()"
   ]
  },
  {
   "cell_type": "code",
   "execution_count": 14,
   "id": "0dbc3be7",
   "metadata": {},
   "outputs": [],
   "source": [
    "tbl='''create table IF NOT EXISTS sales\n",
    "        (\n",
    "            sid int primary key,\n",
    "            year int NOT NULL,\n",
    "            total_sales int NOT NULL\n",
    "        )'''"
   ]
  },
  {
   "cell_type": "code",
   "execution_count": 15,
   "id": "4e0b4c83",
   "metadata": {},
   "outputs": [
    {
     "data": {
      "text/plain": [
       "<sqlite3.Cursor at 0x15070b7bac0>"
      ]
     },
     "execution_count": 15,
     "metadata": {},
     "output_type": "execute_result"
    }
   ],
   "source": [
    "cur.execute(tbl)"
   ]
  },
  {
   "cell_type": "markdown",
   "id": "0bc8d12f",
   "metadata": {},
   "source": [
    "### A. Insert at least 5-10 records into the sales table."
   ]
  },
  {
   "cell_type": "code",
   "execution_count": 6,
   "id": "549e2e6d",
   "metadata": {},
   "outputs": [],
   "source": [
    "input_list=[[101,2013,2000],[102,2014,2200],\n",
    "           [103,2015,2100],[104,2016,2150],\n",
    "           [105,2017,2300],[106,2018,2400],\n",
    "            [107,2019,2500],[108,2020,2600],\n",
    "            [109,2021,2700],[110,2022,2800],]"
   ]
  },
  {
   "cell_type": "code",
   "execution_count": 16,
   "id": "82075228",
   "metadata": {},
   "outputs": [],
   "source": [
    "insert_rec=\"insert into sales values(?,?,?)\""
   ]
  },
  {
   "cell_type": "code",
   "execution_count": 17,
   "id": "5b8245ce",
   "metadata": {},
   "outputs": [
    {
     "data": {
      "text/plain": [
       "<sqlite3.Cursor at 0x15070b7bac0>"
      ]
     },
     "execution_count": 17,
     "metadata": {},
     "output_type": "execute_result"
    }
   ],
   "source": [
    "cur.executemany(insert_rec,input_list)"
   ]
  },
  {
   "cell_type": "markdown",
   "id": "cf5741f4",
   "metadata": {},
   "source": [
    "### B. Export sales table data into sales.csv file."
   ]
  },
  {
   "cell_type": "code",
   "execution_count": 18,
   "id": "5d56f08e",
   "metadata": {},
   "outputs": [],
   "source": [
    "sel=\"select * from sales\""
   ]
  },
  {
   "cell_type": "code",
   "execution_count": 19,
   "id": "aa1696d0",
   "metadata": {},
   "outputs": [
    {
     "data": {
      "text/plain": [
       "<sqlite3.Cursor at 0x15070b7bac0>"
      ]
     },
     "execution_count": 19,
     "metadata": {},
     "output_type": "execute_result"
    }
   ],
   "source": [
    "cur.execute(sel)"
   ]
  },
  {
   "cell_type": "code",
   "execution_count": 20,
   "id": "6ed27b29",
   "metadata": {},
   "outputs": [],
   "source": [
    "all_records=cur.fetchall()"
   ]
  },
  {
   "cell_type": "code",
   "execution_count": 21,
   "id": "5f61caee",
   "metadata": {},
   "outputs": [],
   "source": [
    "header=['sid', 'year', 'total_sales']\n",
    "with open('sales.csv', 'w', newline='') as csvfile:\n",
    "    csv_obj= csv.writer(csvfile)\n",
    "    csv_obj.writerow(header)\n",
    "    csv_obj.writerows(all_records)"
   ]
  },
  {
   "cell_type": "markdown",
   "id": "25cd28cf",
   "metadata": {},
   "source": [
    "### C. Write a python scripts that read the sales.csv file and plot a bar chart that shows totalsales of the year. \n",
    "### Also decorate the chart with appropriate title, lables, colours etc."
   ]
  },
  {
   "cell_type": "code",
   "execution_count": 22,
   "id": "3017c502",
   "metadata": {},
   "outputs": [
    {
     "data": {
      "text/html": [
       "<div>\n",
       "<style scoped>\n",
       "    .dataframe tbody tr th:only-of-type {\n",
       "        vertical-align: middle;\n",
       "    }\n",
       "\n",
       "    .dataframe tbody tr th {\n",
       "        vertical-align: top;\n",
       "    }\n",
       "\n",
       "    .dataframe thead th {\n",
       "        text-align: right;\n",
       "    }\n",
       "</style>\n",
       "<table border=\"1\" class=\"dataframe\">\n",
       "  <thead>\n",
       "    <tr style=\"text-align: right;\">\n",
       "      <th></th>\n",
       "      <th>sid</th>\n",
       "      <th>year</th>\n",
       "      <th>total_sales</th>\n",
       "    </tr>\n",
       "  </thead>\n",
       "  <tbody>\n",
       "    <tr>\n",
       "      <th>0</th>\n",
       "      <td>101</td>\n",
       "      <td>2013</td>\n",
       "      <td>2000</td>\n",
       "    </tr>\n",
       "    <tr>\n",
       "      <th>1</th>\n",
       "      <td>102</td>\n",
       "      <td>2014</td>\n",
       "      <td>2200</td>\n",
       "    </tr>\n",
       "    <tr>\n",
       "      <th>2</th>\n",
       "      <td>103</td>\n",
       "      <td>2015</td>\n",
       "      <td>2100</td>\n",
       "    </tr>\n",
       "    <tr>\n",
       "      <th>3</th>\n",
       "      <td>104</td>\n",
       "      <td>2016</td>\n",
       "      <td>2150</td>\n",
       "    </tr>\n",
       "    <tr>\n",
       "      <th>4</th>\n",
       "      <td>105</td>\n",
       "      <td>2017</td>\n",
       "      <td>2300</td>\n",
       "    </tr>\n",
       "    <tr>\n",
       "      <th>5</th>\n",
       "      <td>106</td>\n",
       "      <td>2018</td>\n",
       "      <td>2400</td>\n",
       "    </tr>\n",
       "    <tr>\n",
       "      <th>6</th>\n",
       "      <td>107</td>\n",
       "      <td>2019</td>\n",
       "      <td>2500</td>\n",
       "    </tr>\n",
       "    <tr>\n",
       "      <th>7</th>\n",
       "      <td>108</td>\n",
       "      <td>2020</td>\n",
       "      <td>2600</td>\n",
       "    </tr>\n",
       "    <tr>\n",
       "      <th>8</th>\n",
       "      <td>109</td>\n",
       "      <td>2021</td>\n",
       "      <td>2700</td>\n",
       "    </tr>\n",
       "    <tr>\n",
       "      <th>9</th>\n",
       "      <td>110</td>\n",
       "      <td>2022</td>\n",
       "      <td>2800</td>\n",
       "    </tr>\n",
       "  </tbody>\n",
       "</table>\n",
       "</div>"
      ],
      "text/plain": [
       "   sid  year  total_sales\n",
       "0  101  2013         2000\n",
       "1  102  2014         2200\n",
       "2  103  2015         2100\n",
       "3  104  2016         2150\n",
       "4  105  2017         2300\n",
       "5  106  2018         2400\n",
       "6  107  2019         2500\n",
       "7  108  2020         2600\n",
       "8  109  2021         2700\n",
       "9  110  2022         2800"
      ]
     },
     "execution_count": 22,
     "metadata": {},
     "output_type": "execute_result"
    }
   ],
   "source": [
    "df=pd.read_csv(\"sales.csv\")\n",
    "df"
   ]
  },
  {
   "cell_type": "code",
   "execution_count": 47,
   "id": "0053cc01",
   "metadata": {},
   "outputs": [
    {
     "data": {
      "text/plain": [
       "Text(0, 0.5, 'SALES')"
      ]
     },
     "execution_count": 47,
     "metadata": {},
     "output_type": "execute_result"
    },
    {
     "data": {
      "image/png": "[encoded data removed]",
      "text/plain": [
       "<Figure size 432x288 with 1 Axes>"
      ]
     },
     "metadata": {
      "needs_background": "light"
     },
     "output_type": "display_data"
    }
   ],
   "source": [
    "plt.bar(df['year'],df['total_sales'],color=['cornflowerblue','royalblue','slateblue','darkslateblue',\n",
    "'mediumslateblue','mediumpurple','rebeccapurple','blueviolet','orchid','violet'])\n",
    "plt.title('Year wise Total Sales')\n",
    "plt.xlabel('YEAR')\n",
    "plt.ylabel('SALES')\n"
   ]
  },
  {
   "cell_type": "code",
   "execution_count": null,
   "id": "d714efbf",
   "metadata": {},
   "outputs": [],
   "source": []
  },
  {
   "cell_type": "code",
   "execution_count": null,
   "id": "ed2f4020",
   "metadata": {},
   "outputs": [],
   "source": []
  }
 ],
 "metadata": {
  "kernelspec": {
   "display_name": "Python 3 (ipykernel)",
   "language": "python",
   "name": "python3"
  },
  "language_info": {
   "codemirror_mode": {
    "name": "ipython",
    "version": 3
   },
   "file_extension": ".py",
   "mimetype": "text/x-python",
   "name": "python",
   "nbconvert_exporter": "python",
   "pygments_lexer": "ipython3",
   "version": "3.10.7"
  }
 },
 "nbformat": 4,
 "nbformat_minor": 5
}
