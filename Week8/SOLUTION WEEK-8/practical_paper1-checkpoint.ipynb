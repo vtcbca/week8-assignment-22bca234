{
 "cells": [
  {
   "cell_type": "markdown",
   "id": "886073ef",
   "metadata": {},
   "source": [
    "## Create CSV file for product selling for 6 Months ( Prod_No | Prod_Name | Jan | Feb | Mar | Apr | May | Jun) for atleast 5 records for  5 different  products."
   ]
  },
  {
   "cell_type": "code",
   "execution_count": 1,
   "id": "2fddc086",
   "metadata": {},
   "outputs": [],
   "source": [
    "import csv\n",
    "import pandas as pd"
   ]
  },
  {
   "cell_type": "code",
   "execution_count": 3,
   "id": "712a624c",
   "metadata": {},
   "outputs": [],
   "source": [
    "header=['prod_name','jan','feb','mar','apr','may','jun']"
   ]
  },
  {
   "cell_type": "code",
   "execution_count": 4,
   "id": "cf759b98",
   "metadata": {},
   "outputs": [
    {
     "name": "stdout",
     "output_type": "stream",
     "text": [
      "Enter the product name: PEN\n",
      "Enter the sales of January month:1000\n",
      "Enter the sales of Feburary month:1100\n",
      "Enter the sales of March month:1120\n",
      "Enter the sales of April month:1230\n",
      "Enter the sales of May month:1230\n",
      "Enter the sales of June month:1432\n",
      "Enter the product name: PENCIL\n",
      "Enter the sales of January month:2000\n",
      "Enter the sales of Feburary month:2030\n",
      "Enter the sales of March month:2450\n",
      "Enter the sales of April month:2130\n",
      "Enter the sales of May month:1530\n",
      "Enter the sales of June month:1252\n",
      "Enter the product name: NOTES\n",
      "Enter the sales of January month:3000\n",
      "Enter the sales of Feburary month:3100\n",
      "Enter the sales of March month:3150\n",
      "Enter the sales of April month:3200\n",
      "Enter the sales of May month:3250\n",
      "Enter the sales of June month:3100\n",
      "Enter the product name: FOLDERS\n",
      "Enter the sales of January month:900\n",
      "Enter the sales of Feburary month:920\n",
      "Enter the sales of March month:940\n",
      "Enter the sales of April month:960\n",
      "Enter the sales of May month:980\n",
      "Enter the sales of June month:1000\n",
      "Enter the product name: SCALE\n",
      "Enter the sales of January month:1200\n",
      "Enter the sales of Feburary month:1220\n",
      "Enter the sales of March month:1240\n",
      "Enter the sales of April month:1260\n",
      "Enter the sales of May month:1280\n",
      "Enter the sales of June month:1290\n"
     ]
    }
   ],
   "source": [
    "L=[]\n",
    "for i in range(5):\n",
    "    prod_name=input(\"Enter the product name: \")\n",
    "    jan=int(input(\"Enter the sales of January month:\"))\n",
    "    feb=int(input(\"Enter the sales of Feburary month:\"))\n",
    "    mar=int(input(\"Enter the sales of March month:\"))\n",
    "    apr=int(input(\"Enter the sales of April month:\"))\n",
    "    may=int(input(\"Enter the sales of May month:\"))\n",
    "    jun=int(input(\"Enter the sales of June month:\"))\n",
    "    t=(prod_name,jan,feb,mar,apr,may,jun)\n",
    "    L.append(t)"
   ]
  },
  {
   "cell_type": "code",
   "execution_count": 5,
   "id": "5ee643c8",
   "metadata": {},
   "outputs": [],
   "source": [
    "with open(\"C:\\\\22BCA234\\\\DB&PYTHON\\\\PRODUCT_SELLING-1.csv\",'w',newline=\"\")as csvfile:\n",
    "    obj=csv.writer(csvfile)\n",
    "    obj.writerow(header)\n",
    "    obj.writerows(L)"
   ]
  },
  {
   "cell_type": "markdown",
   "id": "3b2bc743",
   "metadata": {},
   "source": [
    "### A. READ DATA IN DATAFRAME"
   ]
  },
  {
   "cell_type": "code",
   "execution_count": 2,
   "id": "c954a9bd",
   "metadata": {},
   "outputs": [
    {
     "data": {
      "text/html": [
       "<div>\n",
       "<style scoped>\n",
       "    .dataframe tbody tr th:only-of-type {\n",
       "        vertical-align: middle;\n",
       "    }\n",
       "\n",
       "    .dataframe tbody tr th {\n",
       "        vertical-align: top;\n",
       "    }\n",
       "\n",
       "    .dataframe thead th {\n",
       "        text-align: right;\n",
       "    }\n",
       "</style>\n",
       "<table border=\"1\" class=\"dataframe\">\n",
       "  <thead>\n",
       "    <tr style=\"text-align: right;\">\n",
       "      <th></th>\n",
       "      <th>prod_name</th>\n",
       "      <th>jan</th>\n",
       "      <th>feb</th>\n",
       "      <th>mar</th>\n",
       "      <th>apr</th>\n",
       "      <th>may</th>\n",
       "      <th>jun</th>\n",
       "    </tr>\n",
       "  </thead>\n",
       "  <tbody>\n",
       "    <tr>\n",
       "      <th>0</th>\n",
       "      <td>PEN</td>\n",
       "      <td>1000</td>\n",
       "      <td>1100</td>\n",
       "      <td>1120</td>\n",
       "      <td>1230</td>\n",
       "      <td>1230</td>\n",
       "      <td>1432</td>\n",
       "    </tr>\n",
       "    <tr>\n",
       "      <th>1</th>\n",
       "      <td>PENCIL</td>\n",
       "      <td>2000</td>\n",
       "      <td>2030</td>\n",
       "      <td>2450</td>\n",
       "      <td>2130</td>\n",
       "      <td>1530</td>\n",
       "      <td>1252</td>\n",
       "    </tr>\n",
       "    <tr>\n",
       "      <th>2</th>\n",
       "      <td>NOTES</td>\n",
       "      <td>3000</td>\n",
       "      <td>3100</td>\n",
       "      <td>3150</td>\n",
       "      <td>3200</td>\n",
       "      <td>3250</td>\n",
       "      <td>3100</td>\n",
       "    </tr>\n",
       "    <tr>\n",
       "      <th>3</th>\n",
       "      <td>FOLDERS</td>\n",
       "      <td>900</td>\n",
       "      <td>920</td>\n",
       "      <td>940</td>\n",
       "      <td>960</td>\n",
       "      <td>980</td>\n",
       "      <td>1000</td>\n",
       "    </tr>\n",
       "    <tr>\n",
       "      <th>4</th>\n",
       "      <td>SCALE</td>\n",
       "      <td>1200</td>\n",
       "      <td>1220</td>\n",
       "      <td>1240</td>\n",
       "      <td>1260</td>\n",
       "      <td>1280</td>\n",
       "      <td>1290</td>\n",
       "    </tr>\n",
       "  </tbody>\n",
       "</table>\n",
       "</div>"
      ],
      "text/plain": [
       "  prod_name   jan   feb   mar   apr   may   jun\n",
       "0       PEN  1000  1100  1120  1230  1230  1432\n",
       "1    PENCIL  2000  2030  2450  2130  1530  1252\n",
       "2     NOTES  3000  3100  3150  3200  3250  3100\n",
       "3   FOLDERS   900   920   940   960   980  1000\n",
       "4     SCALE  1200  1220  1240  1260  1280  1290"
      ]
     },
     "execution_count": 2,
     "metadata": {},
     "output_type": "execute_result"
    }
   ],
   "source": [
    "df=pd.read_csv(\"C:\\\\22BCA234\\\\DB&PYTHON\\\\PRODUCT_SELLING-1.csv\")\n",
    "df"
   ]
  },
  {
   "cell_type": "markdown",
   "id": "9a034678",
   "metadata": {},
   "source": [
    "### B. Add column AND Calculate average sell and total sell."
   ]
  },
  {
   "cell_type": "code",
   "execution_count": 6,
   "id": "3d31d13c",
   "metadata": {},
   "outputs": [],
   "source": [
    "df['TOTAL_SALES']=df.iloc[:,1:7].sum(axis=1)\n",
    "df['AVERAGE_SALES']=df.iloc[:,1:7].mean(axis=1)"
   ]
  },
  {
   "cell_type": "code",
   "execution_count": 9,
   "id": "9b49a3f4",
   "metadata": {},
   "outputs": [
    {
     "data": {
      "text/html": [
       "<div>\n",
       "<style scoped>\n",
       "    .dataframe tbody tr th:only-of-type {\n",
       "        vertical-align: middle;\n",
       "    }\n",
       "\n",
       "    .dataframe tbody tr th {\n",
       "        vertical-align: top;\n",
       "    }\n",
       "\n",
       "    .dataframe thead th {\n",
       "        text-align: right;\n",
       "    }\n",
       "</style>\n",
       "<table border=\"1\" class=\"dataframe\">\n",
       "  <thead>\n",
       "    <tr style=\"text-align: right;\">\n",
       "      <th></th>\n",
       "      <th>prod_name</th>\n",
       "      <th>jan</th>\n",
       "      <th>feb</th>\n",
       "      <th>mar</th>\n",
       "      <th>apr</th>\n",
       "      <th>may</th>\n",
       "      <th>jun</th>\n",
       "      <th>TOTAL_SALES</th>\n",
       "      <th>AVERAGE_SALES</th>\n",
       "    </tr>\n",
       "  </thead>\n",
       "  <tbody>\n",
       "    <tr>\n",
       "      <th>0</th>\n",
       "      <td>PEN</td>\n",
       "      <td>1000</td>\n",
       "      <td>1100</td>\n",
       "      <td>1120</td>\n",
       "      <td>1230</td>\n",
       "      <td>1230</td>\n",
       "      <td>1432</td>\n",
       "      <td>7112</td>\n",
       "      <td>1185.333333</td>\n",
       "    </tr>\n",
       "    <tr>\n",
       "      <th>1</th>\n",
       "      <td>PENCIL</td>\n",
       "      <td>2000</td>\n",
       "      <td>2030</td>\n",
       "      <td>2450</td>\n",
       "      <td>2130</td>\n",
       "      <td>1530</td>\n",
       "      <td>1252</td>\n",
       "      <td>11392</td>\n",
       "      <td>1898.666667</td>\n",
       "    </tr>\n",
       "    <tr>\n",
       "      <th>2</th>\n",
       "      <td>NOTES</td>\n",
       "      <td>3000</td>\n",
       "      <td>3100</td>\n",
       "      <td>3150</td>\n",
       "      <td>3200</td>\n",
       "      <td>3250</td>\n",
       "      <td>3100</td>\n",
       "      <td>18800</td>\n",
       "      <td>3133.333333</td>\n",
       "    </tr>\n",
       "    <tr>\n",
       "      <th>3</th>\n",
       "      <td>FOLDERS</td>\n",
       "      <td>900</td>\n",
       "      <td>920</td>\n",
       "      <td>940</td>\n",
       "      <td>960</td>\n",
       "      <td>980</td>\n",
       "      <td>1000</td>\n",
       "      <td>5700</td>\n",
       "      <td>950.000000</td>\n",
       "    </tr>\n",
       "    <tr>\n",
       "      <th>4</th>\n",
       "      <td>SCALE</td>\n",
       "      <td>1200</td>\n",
       "      <td>1220</td>\n",
       "      <td>1240</td>\n",
       "      <td>1260</td>\n",
       "      <td>1280</td>\n",
       "      <td>1290</td>\n",
       "      <td>7490</td>\n",
       "      <td>1248.333333</td>\n",
       "    </tr>\n",
       "  </tbody>\n",
       "</table>\n",
       "</div>"
      ],
      "text/plain": [
       "  prod_name   jan   feb   mar   apr   may   jun  TOTAL_SALES  AVERAGE_SALES\n",
       "0       PEN  1000  1100  1120  1230  1230  1432         7112    1185.333333\n",
       "1    PENCIL  2000  2030  2450  2130  1530  1252        11392    1898.666667\n",
       "2     NOTES  3000  3100  3150  3200  3250  3100        18800    3133.333333\n",
       "3   FOLDERS   900   920   940   960   980  1000         5700     950.000000\n",
       "4     SCALE  1200  1220  1240  1260  1280  1290         7490    1248.333333"
      ]
     },
     "execution_count": 9,
     "metadata": {},
     "output_type": "execute_result"
    }
   ],
   "source": [
    "df"
   ]
  },
  {
   "cell_type": "markdown",
   "id": "e77a2315",
   "metadata": {},
   "source": [
    "## C.\tPlot Total sell and average sell together on line chart with proper Legends, titles and lables."
   ]
  },
  {
   "cell_type": "code",
   "execution_count": 4,
   "id": "66c3914a",
   "metadata": {},
   "outputs": [],
   "source": [
    "import matplotlib.pyplot as plt\n",
    "%matplotlib inline"
   ]
  },
  {
   "cell_type": "code",
   "execution_count": 8,
   "id": "4cc90a82",
   "metadata": {},
   "outputs": [
    {
     "data": {
      "image/png": "[encoded data removed]",
      "text/plain": [
       "<Figure size 640x480 with 1 Axes>"
      ]
     },
     "metadata": {},
     "output_type": "display_data"
    }
   ],
   "source": [
    "plt.plot(df['prod_name'],df['TOTAL_SALES'])\n",
    "plt.plot(df['prod_name'],df['AVERAGE_SALES'])\n",
    "plt.xlabel('PRODUCT NAME')\n",
    "plt.ylabel('sales')\n",
    "plt.title('TOTAL AND AVERAGE SALES')\n",
    "plt.legend(['TOTAL SALES','AVERAGE SALES']);\n",
    "plt.show()"
   ]
  },
  {
   "cell_type": "markdown",
   "id": "ac5a0c34",
   "metadata": {},
   "source": [
    "### D.\tExplain final dataframe to csv named sell_analysis.csv"
   ]
  },
  {
   "cell_type": "code",
   "execution_count": 11,
   "id": "c2a1d640",
   "metadata": {},
   "outputs": [],
   "source": [
    "df.to_csv(r\"C:\\22BCA234\\DB&PYTHON\\sales_anyalsis.csv\")"
   ]
  },
  {
   "cell_type": "code",
   "execution_count": null,
   "id": "5378697e",
   "metadata": {},
   "outputs": [],
   "source": []
  }
 ],
 "metadata": {
  "kernelspec": {
   "display_name": "Python 3 (ipykernel)",
   "language": "python",
   "name": "python3"
  },
  "language_info": {
   "codemirror_mode": {
    "name": "ipython",
    "version": 3
   },
   "file_extension": ".py",
   "mimetype": "text/x-python",
   "name": "python",
   "nbconvert_exporter": "python",
   "pygments_lexer": "ipython3",
   "version": "3.9.6"
  }
 },
 "nbformat": 4,
 "nbformat_minor": 5
}
